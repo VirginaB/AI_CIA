{
 "cells": [
  {
   "cell_type": "code",
   "execution_count": 1,
   "metadata": {},
   "outputs": [],
   "source": [
    "import math\n",
    "def minimax(depth, nodeIndex, isMaximizingPlayer, values, maxDepth):\n",
    "    #terminal node(leaf nodes)\n",
    "    if depth == maxDepth:\n",
    "        print(f\"Leaf node reached at depth {depth}, returning value: {values[nodeIndex]}\")\n",
    "        return values[nodeIndex]\n",
    "\n",
    "    if isMaximizingPlayer:\n",
    "        best = -math.inf\n",
    "\n",
    "        #print(f\"Maximizer at depth {depth}, evaluating children of node {nodeIndex}\")\n",
    "        print(f\"Maximizer at depth {depth}\")\n",
    "        #maximizer's choice (MAX player)\n",
    "        for i in range(2):\n",
    "            value = minimax(depth + 1, nodeIndex * 2 + i, False, values, maxDepth)\n",
    "            print(f\"Maximizer at depth {depth}, comparing value: {value} with best: {best}\")\n",
    "            best = max(best, value)\n",
    "        print(f\"Maximizer at depth {depth}, selected best: {best}\")\n",
    "        return best\n",
    "    else:\n",
    "        best = math.inf\n",
    "\n",
    "        #print(f\"Minimizer at depth {depth}, evaluating children of node {nodeIndex}\")\n",
    "        print(f\"Minimizer at depth {depth}\")\n",
    "        #minimizer's choice (MIN player)\n",
    "        for i in range(2):\n",
    "            value = minimax(depth + 1, nodeIndex * 2 + i, True, values, maxDepth)\n",
    "            print(f\"Minimizer at depth {depth}, comparing value: {value} with best: {best}\")\n",
    "            best = min(best, value)\n",
    "        print(f\"Minimizer at depth {depth}, selected best: {best}\")\n",
    "        return best"
   ]
  },
  {
   "cell_type": "code",
   "execution_count": 2,
   "metadata": {},
   "outputs": [
    {
     "name": "stdout",
     "output_type": "stream",
     "text": [
      "Maximizer at depth 0\n",
      "Minimizer at depth 1\n",
      "Maximizer at depth 2\n",
      "Leaf node reached at depth 3, returning value: 10\n",
      "Maximizer at depth 2, comparing value: 10 with best: -inf\n",
      "Leaf node reached at depth 3, returning value: 9\n",
      "Maximizer at depth 2, comparing value: 9 with best: 10\n",
      "Maximizer at depth 2, selected best: 10\n",
      "Minimizer at depth 1, comparing value: 10 with best: inf\n",
      "Maximizer at depth 2\n",
      "Leaf node reached at depth 3, returning value: 14\n",
      "Maximizer at depth 2, comparing value: 14 with best: -inf\n",
      "Leaf node reached at depth 3, returning value: 18\n",
      "Maximizer at depth 2, comparing value: 18 with best: 14\n",
      "Maximizer at depth 2, selected best: 18\n",
      "Minimizer at depth 1, comparing value: 18 with best: 10\n",
      "Minimizer at depth 1, selected best: 10\n",
      "Maximizer at depth 0, comparing value: 10 with best: -inf\n",
      "Minimizer at depth 1\n",
      "Maximizer at depth 2\n",
      "Leaf node reached at depth 3, returning value: 5\n",
      "Maximizer at depth 2, comparing value: 5 with best: -inf\n",
      "Leaf node reached at depth 3, returning value: 4\n",
      "Maximizer at depth 2, comparing value: 4 with best: 5\n",
      "Maximizer at depth 2, selected best: 5\n",
      "Minimizer at depth 1, comparing value: 5 with best: inf\n",
      "Maximizer at depth 2\n",
      "Leaf node reached at depth 3, returning value: 50\n",
      "Maximizer at depth 2, comparing value: 50 with best: -inf\n",
      "Leaf node reached at depth 3, returning value: 3\n",
      "Maximizer at depth 2, comparing value: 3 with best: 50\n",
      "Maximizer at depth 2, selected best: 50\n",
      "Minimizer at depth 1, comparing value: 50 with best: 5\n",
      "Minimizer at depth 1, selected best: 5\n",
      "Maximizer at depth 0, comparing value: 5 with best: 10\n",
      "Maximizer at depth 0, selected best: 10\n",
      "\n",
      "The optimal value is: 10\n"
     ]
    }
   ],
   "source": [
    "#the depth of the game\n",
    "maxDepth = 3\n",
    "#leaf-nodevalues\n",
    "values = [10, 9, 14, 18, 5, 4, 50, 3]\n",
    "#values = [-1,4,2,6,-3,-5,0,7]\n",
    "optimalValue = minimax(0, 0, True, values, maxDepth)\n",
    "\n",
    "print(\"\\nThe optimal value is:\", optimalValue)"
   ]
  },
  {
   "cell_type": "code",
   "execution_count": null,
   "metadata": {},
   "outputs": [],
   "source": []
  }
 ],
 "metadata": {
  "kernelspec": {
   "display_name": "Python 3",
   "language": "python",
   "name": "python3"
  },
  "language_info": {
   "codemirror_mode": {
    "name": "ipython",
    "version": 3
   },
   "file_extension": ".py",
   "mimetype": "text/x-python",
   "name": "python",
   "nbconvert_exporter": "python",
   "pygments_lexer": "ipython3",
   "version": "3.8.1"
  }
 },
 "nbformat": 4,
 "nbformat_minor": 2
}
